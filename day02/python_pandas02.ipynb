{
 "cells": [
  {
   "cell_type": "markdown",
   "metadata": {},
   "source": [
    "## OpenAPI 활용\n",
    "1. https://data.go.kr 로그인\n",
    "2. 기상청 종관 ASOS 일별 관측자료 API"
   ]
  },
  {
   "cell_type": "code",
   "execution_count": 2,
   "metadata": {},
   "outputs": [],
   "source": [
    "## read_csv\n",
    "import pandas as pd"
   ]
  },
  {
   "cell_type": "code",
   "execution_count": 7,
   "metadata": {},
   "outputs": [
    {
     "data": {
      "text/html": [
       "<div>\n",
       "<style scoped>\n",
       "    .dataframe tbody tr th:only-of-type {\n",
       "        vertical-align: middle;\n",
       "    }\n",
       "\n",
       "    .dataframe tbody tr th {\n",
       "        vertical-align: top;\n",
       "    }\n",
       "\n",
       "    .dataframe thead th {\n",
       "        text-align: right;\n",
       "    }\n",
       "</style>\n",
       "<table border=\"1\" class=\"dataframe\">\n",
       "  <thead>\n",
       "    <tr style=\"text-align: right;\">\n",
       "      <th></th>\n",
       "      <th>지역</th>\n",
       "      <th>시군구</th>\n",
       "      <th>센터단위</th>\n",
       "      <th>센터구분</th>\n",
       "      <th>지원센터</th>\n",
       "      <th>신고구분</th>\n",
       "      <th>운영단체명</th>\n",
       "      <th>운영법인분류(대)</th>\n",
       "      <th>대표자명</th>\n",
       "      <th>센터전화번호</th>\n",
       "      <th>주소</th>\n",
       "      <th>등록일자</th>\n",
       "    </tr>\n",
       "  </thead>\n",
       "  <tbody>\n",
       "    <tr>\n",
       "      <th>24</th>\n",
       "      <td>충북</td>\n",
       "      <td>충청북도 음성군</td>\n",
       "      <td>기초</td>\n",
       "      <td>푸드뱅크</td>\n",
       "      <td>한울사랑나눔</td>\n",
       "      <td>당연신고</td>\n",
       "      <td>한울사랑나눔푸드뱅크</td>\n",
       "      <td>개인 운영</td>\n",
       "      <td>이*경</td>\n",
       "      <td>043-878-4312</td>\n",
       "      <td>음성군 생극면 음성로 1620번길 7</td>\n",
       "      <td>2011-11-25</td>\n",
       "    </tr>\n",
       "    <tr>\n",
       "      <th>25</th>\n",
       "      <td>충북</td>\n",
       "      <td>충청북도 음성군</td>\n",
       "      <td>기초</td>\n",
       "      <td>푸드뱅크</td>\n",
       "      <td>관성푸드뱅크</td>\n",
       "      <td>당연신고</td>\n",
       "      <td>개인</td>\n",
       "      <td>개인 운영</td>\n",
       "      <td>유*호</td>\n",
       "      <td>043-877-9457</td>\n",
       "      <td>음성군 삼성면 대성로547번길 12</td>\n",
       "      <td>2014-04-18</td>\n",
       "    </tr>\n",
       "    <tr>\n",
       "      <th>26</th>\n",
       "      <td>충북</td>\n",
       "      <td>충청북도 단양군</td>\n",
       "      <td>기초</td>\n",
       "      <td>푸드뱅크</td>\n",
       "      <td>단양군푸드뱅크</td>\n",
       "      <td>임의신고</td>\n",
       "      <td>단양군사회복지협의회</td>\n",
       "      <td>법인 운영</td>\n",
       "      <td>김*학</td>\n",
       "      <td>043-422-1299</td>\n",
       "      <td>단양군 단양읍 수변로 83, 3층</td>\n",
       "      <td>2022-12-01</td>\n",
       "    </tr>\n",
       "    <tr>\n",
       "      <th>27</th>\n",
       "      <td>충북</td>\n",
       "      <td>충청북도 단양군</td>\n",
       "      <td>기초</td>\n",
       "      <td>푸드뱅크</td>\n",
       "      <td>단양나눔과기쁨</td>\n",
       "      <td>당연신고</td>\n",
       "      <td>기독교대한성결교회(단양수정교회)</td>\n",
       "      <td>법인 운영</td>\n",
       "      <td>함*용</td>\n",
       "      <td>043-421-3191</td>\n",
       "      <td>단양군 대강면 장림1길 6</td>\n",
       "      <td>2012-04-17</td>\n",
       "    </tr>\n",
       "    <tr>\n",
       "      <th>28</th>\n",
       "      <td>충북</td>\n",
       "      <td>충청북도 단양군</td>\n",
       "      <td>기초</td>\n",
       "      <td>푸드마켓</td>\n",
       "      <td>단양군푸드마켓</td>\n",
       "      <td>임의신고</td>\n",
       "      <td>단양군사회복지협의회</td>\n",
       "      <td>법인 운영</td>\n",
       "      <td>김*학</td>\n",
       "      <td>043-422-1700</td>\n",
       "      <td>단양군 단양읍 중앙1로 29, 1층</td>\n",
       "      <td>2012-06-22</td>\n",
       "    </tr>\n",
       "  </tbody>\n",
       "</table>\n",
       "</div>"
      ],
      "text/plain": [
       "    지역       시군구 센터단위  센터구분     지원센터  신고구분              운영단체명 운영법인분류(대) 대표자명  \\\n",
       "24  충북  충청북도 음성군   기초  푸드뱅크   한울사랑나눔  당연신고         한울사랑나눔푸드뱅크     개인 운영  이*경   \n",
       "25  충북  충청북도 음성군   기초  푸드뱅크   관성푸드뱅크  당연신고                 개인     개인 운영  유*호   \n",
       "26  충북  충청북도 단양군   기초  푸드뱅크  단양군푸드뱅크  임의신고         단양군사회복지협의회     법인 운영  김*학   \n",
       "27  충북  충청북도 단양군   기초  푸드뱅크  단양나눔과기쁨  당연신고  기독교대한성결교회(단양수정교회)     법인 운영  함*용   \n",
       "28  충북  충청북도 단양군   기초  푸드마켓  단양군푸드마켓  임의신고         단양군사회복지협의회     법인 운영  김*학   \n",
       "\n",
       "          센터전화번호                    주소        등록일자  \n",
       "24  043-878-4312  음성군 생극면 음성로 1620번길 7  2011-11-25  \n",
       "25  043-877-9457   음성군 삼성면 대성로547번길 12  2014-04-18  \n",
       "26  043-422-1299    단양군 단양읍 수변로 83, 3층  2022-12-01  \n",
       "27  043-421-3191        단양군 대강면 장림1길 6  2012-04-17  \n",
       "28  043-422-1700   단양군 단양읍 중앙1로 29, 1층  2012-06-22  "
      ]
     },
     "execution_count": 7,
     "metadata": {},
     "output_type": "execute_result"
    }
   ],
   "source": [
    "df = pd.read_csv('../day01/data/충북푸드뱅크현황.csv', encoding='utf8')\n",
    "df.tail()"
   ]
  },
  {
   "cell_type": "markdown",
   "metadata": {},
   "source": [
    "#### 오픈API\n",
    "- 기상청 종간 ASOS OpenAPI 신청건 웹브라우저 테스트\n",
    "- 테스트 성공한 URL\n",
    "\t- https://apis.data.go.kr/1360000/AsosDalyInfoService/getWthrDataList?serviceKey=T%2BuGGEG5tU6pCutQzUbmUJgybPjNxikLeWNKpEZyTwBroX0NPIfS6ISH%2Fx%2B8CGwa%2BeRRyW7WpciL%2BrWmQXM49g%3D%3D&pageNo=1&numOfRows=10&dataType=JSON&dataCd=ASOS&dateCd=DAY&startDt=20141001&endDt=20141030&stnIds=108\n",
    "\n",
    "- urlib, request, parse 모듈 사용 파이썬에서 OPENAPI 호출"
   ]
  },
  {
   "cell_type": "code",
   "execution_count": 8,
   "metadata": {},
   "outputs": [],
   "source": [
    "# openAPI 호출용 모듈\n",
    "import requests\n",
    "import json"
   ]
  },
  {
   "cell_type": "code",
   "execution_count": null,
   "metadata": {},
   "outputs": [],
   "source": [
    "def getAsosDailyData(startdate, enddate):\n",
    "    url = 'https://apis.data.go.kr/1360000/AsosDalyInfoService/getWthrDataList'\t#endpoint url\n",
    "    params = {'serviceKey' : f'T%2BuGGEG5tU6pCutQzUbmUJgybPjNxikLeWNKpEZyTwBroX0NPIfS6ISH%2Fx%2B8CGwa%2BeRRyW7WpciL%2BrWmQXM49g%3D%3D',\n",
    "              'pageNo':'1',\n",
    "              'numOfRows':'10',\n",
    "              'dataType':'JSON',\n",
    "              'dataCd':'ASOS',\n",
    "              'dateCd':'DAY',\n",
    "              'startDt':startdate,\n",
    "              'endDt' :enddate,\n",
    "              'stnIds' : '108'}"
   ]
  }
 ],
 "metadata": {
  "kernelspec": {
   "display_name": "Python 3",
   "language": "python",
   "name": "python3"
  },
  "language_info": {
   "codemirror_mode": {
    "name": "ipython",
    "version": 3
   },
   "file_extension": ".py",
   "mimetype": "text/x-python",
   "name": "python",
   "nbconvert_exporter": "python",
   "pygments_lexer": "ipython3",
   "version": "3.11.5"
  }
 },
 "nbformat": 4,
 "nbformat_minor": 2
}
