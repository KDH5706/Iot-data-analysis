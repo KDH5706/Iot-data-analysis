{
 "cells": [
  {
   "cell_type": "markdown",
   "metadata": {
    "id": "gqEW5akzQrBK"
   },
   "source": [
    "### 데이터를 만듭니다"
   ]
  },
  {
   "cell_type": "code",
   "execution_count": 1,
   "metadata": {
    "executionInfo": {
     "elapsed": 824,
     "status": "ok",
     "timestamp": 1732787267443,
     "user": {
      "displayName": "MG “Hugo” Sung",
      "userId": "01836946422587818310"
     },
     "user_tz": -540
    },
    "id": "aA7VJMnuKf3x"
   },
   "outputs": [],
   "source": [
    "import pandas as pd"
   ]
  },
  {
   "cell_type": "code",
   "execution_count": 2,
   "metadata": {
    "executionInfo": {
     "elapsed": 3,
     "status": "ok",
     "timestamp": 1732788833528,
     "user": {
      "displayName": "MG “Hugo” Sung",
      "userId": "01836946422587818310"
     },
     "user_tz": -540
    },
    "id": "CaFcNv0qLoGl"
   },
   "outputs": [],
   "source": [
    "data = {\n",
    "    'bland': ['McDonald', 'Lotteria', 'BugerKing', \"Mom's Touch\", 'KFC', 'SHAKE SHACK'],\n",
    "    'burger_name': ['McCrispy Delux Burger', 'T-Rex Burger', 'Double Cheese Burger', 'Thigh Flex Burger', 'Kentucky Chicken Burger', 'SHACK Burger'],\n",
    "    'set_price': [7_900, 7_100, 10_500, 10_000, 7_900, 14_200],\n",
    "    'rating': [4.5, 3.9, 4.2, 4.9, 4.0, None],\n",
    "}"
   ]
  },
  {
   "cell_type": "code",
   "execution_count": 3,
   "metadata": {
    "colab": {
     "base_uri": "https://localhost:8080/",
     "height": 237
    },
    "executionInfo": {
     "elapsed": 291,
     "status": "ok",
     "timestamp": 1732788835157,
     "user": {
      "displayName": "MG “Hugo” Sung",
      "userId": "01836946422587818310"
     },
     "user_tz": -540
    },
    "id": "78jwCXHoQEWB",
    "outputId": "7a473079-6003-47bc-c6ae-fae85c98756c"
   },
   "outputs": [
    {
     "data": {
      "text/html": [
       "<div>\n",
       "<style scoped>\n",
       "    .dataframe tbody tr th:only-of-type {\n",
       "        vertical-align: middle;\n",
       "    }\n",
       "\n",
       "    .dataframe tbody tr th {\n",
       "        vertical-align: top;\n",
       "    }\n",
       "\n",
       "    .dataframe thead th {\n",
       "        text-align: right;\n",
       "    }\n",
       "</style>\n",
       "<table border=\"1\" class=\"dataframe\">\n",
       "  <thead>\n",
       "    <tr style=\"text-align: right;\">\n",
       "      <th></th>\n",
       "      <th>bland</th>\n",
       "      <th>burger_name</th>\n",
       "      <th>set_price</th>\n",
       "      <th>rating</th>\n",
       "    </tr>\n",
       "  </thead>\n",
       "  <tbody>\n",
       "    <tr>\n",
       "      <th>0</th>\n",
       "      <td>McDonald</td>\n",
       "      <td>McCrispy Delux Burger</td>\n",
       "      <td>7900</td>\n",
       "      <td>4.5</td>\n",
       "    </tr>\n",
       "    <tr>\n",
       "      <th>1</th>\n",
       "      <td>Lotteria</td>\n",
       "      <td>T-Rex Burger</td>\n",
       "      <td>7100</td>\n",
       "      <td>3.9</td>\n",
       "    </tr>\n",
       "    <tr>\n",
       "      <th>2</th>\n",
       "      <td>BugerKing</td>\n",
       "      <td>Double Cheese Burger</td>\n",
       "      <td>10500</td>\n",
       "      <td>4.2</td>\n",
       "    </tr>\n",
       "    <tr>\n",
       "      <th>3</th>\n",
       "      <td>Mom's Touch</td>\n",
       "      <td>Thigh Flex Burger</td>\n",
       "      <td>10000</td>\n",
       "      <td>4.9</td>\n",
       "    </tr>\n",
       "    <tr>\n",
       "      <th>4</th>\n",
       "      <td>KFC</td>\n",
       "      <td>Kentucky Chicken Burger</td>\n",
       "      <td>7900</td>\n",
       "      <td>4.0</td>\n",
       "    </tr>\n",
       "    <tr>\n",
       "      <th>5</th>\n",
       "      <td>SHAKE SHACK</td>\n",
       "      <td>SHACK Burger</td>\n",
       "      <td>14200</td>\n",
       "      <td>NaN</td>\n",
       "    </tr>\n",
       "  </tbody>\n",
       "</table>\n",
       "</div>"
      ],
      "text/plain": [
       "         bland              burger_name  set_price  rating\n",
       "0     McDonald    McCrispy Delux Burger       7900     4.5\n",
       "1     Lotteria             T-Rex Burger       7100     3.9\n",
       "2    BugerKing     Double Cheese Burger      10500     4.2\n",
       "3  Mom's Touch        Thigh Flex Burger      10000     4.9\n",
       "4          KFC  Kentucky Chicken Burger       7900     4.0\n",
       "5  SHAKE SHACK             SHACK Burger      14200     NaN"
      ]
     },
     "execution_count": 3,
     "metadata": {},
     "output_type": "execute_result"
    }
   ],
   "source": [
    "df_burger = pd.DataFrame(data)\n",
    "df_burger"
   ]
  },
  {
   "cell_type": "code",
   "execution_count": 4,
   "metadata": {
    "colab": {
     "base_uri": "https://localhost:8080/",
     "height": 237
    },
    "executionInfo": {
     "elapsed": 296,
     "status": "ok",
     "timestamp": 1732789414567,
     "user": {
      "displayName": "MG “Hugo” Sung",
      "userId": "01836946422587818310"
     },
     "user_tz": -540
    },
    "id": "Lvku-JjgSEV5",
    "outputId": "9d3dd717-e915-40d0-f350-464492c5595e"
   },
   "outputs": [
    {
     "data": {
      "text/html": [
       "<div>\n",
       "<style scoped>\n",
       "    .dataframe tbody tr th:only-of-type {\n",
       "        vertical-align: middle;\n",
       "    }\n",
       "\n",
       "    .dataframe tbody tr th {\n",
       "        vertical-align: top;\n",
       "    }\n",
       "\n",
       "    .dataframe thead th {\n",
       "        text-align: right;\n",
       "    }\n",
       "</style>\n",
       "<table border=\"1\" class=\"dataframe\">\n",
       "  <thead>\n",
       "    <tr style=\"text-align: right;\">\n",
       "      <th></th>\n",
       "      <th>country</th>\n",
       "      <th>established</th>\n",
       "    </tr>\n",
       "  </thead>\n",
       "  <tbody>\n",
       "    <tr>\n",
       "      <th>0</th>\n",
       "      <td>미국</td>\n",
       "      <td>1955</td>\n",
       "    </tr>\n",
       "    <tr>\n",
       "      <th>1</th>\n",
       "      <td>한국</td>\n",
       "      <td>1979</td>\n",
       "    </tr>\n",
       "    <tr>\n",
       "      <th>2</th>\n",
       "      <td>미국</td>\n",
       "      <td>1953</td>\n",
       "    </tr>\n",
       "    <tr>\n",
       "      <th>3</th>\n",
       "      <td>한국</td>\n",
       "      <td>2004</td>\n",
       "    </tr>\n",
       "    <tr>\n",
       "      <th>4</th>\n",
       "      <td>미국</td>\n",
       "      <td>1930</td>\n",
       "    </tr>\n",
       "    <tr>\n",
       "      <th>5</th>\n",
       "      <td>미국</td>\n",
       "      <td>2004</td>\n",
       "    </tr>\n",
       "  </tbody>\n",
       "</table>\n",
       "</div>"
      ],
      "text/plain": [
       "  country  established\n",
       "0      미국         1955\n",
       "1      한국         1979\n",
       "2      미국         1953\n",
       "3      한국         2004\n",
       "4      미국         1930\n",
       "5      미국         2004"
      ]
     },
     "execution_count": 4,
     "metadata": {},
     "output_type": "execute_result"
    }
   ],
   "source": [
    "sub_data = {\n",
    "    'country': ['미국', '한국', '미국', '한국', '미국', '미국'],\n",
    "    'established': [1955, 1979, 1953, 2004, 1930, 2004]\n",
    "}\n",
    "df_burger_sub = pd.DataFrame(sub_data)\n",
    "df_burger_sub"
   ]
  },
  {
   "cell_type": "markdown",
   "metadata": {
    "id": "lh__aEP1QpJZ"
   },
   "source": [
    "#### 1. 데이터프레임의 제목을 한글('브랜드', '버거이름', '세트가격', '평점') 순으로 변경하세요."
   ]
  },
  {
   "cell_type": "code",
   "execution_count": 6,
   "metadata": {
    "id": "ZOeBxc-oRGV-"
   },
   "outputs": [
    {
     "data": {
      "text/html": [
       "<div>\n",
       "<style scoped>\n",
       "    .dataframe tbody tr th:only-of-type {\n",
       "        vertical-align: middle;\n",
       "    }\n",
       "\n",
       "    .dataframe tbody tr th {\n",
       "        vertical-align: top;\n",
       "    }\n",
       "\n",
       "    .dataframe thead th {\n",
       "        text-align: right;\n",
       "    }\n",
       "</style>\n",
       "<table border=\"1\" class=\"dataframe\">\n",
       "  <thead>\n",
       "    <tr style=\"text-align: right;\">\n",
       "      <th></th>\n",
       "      <th>브랜드</th>\n",
       "      <th>버거이름</th>\n",
       "      <th>세트가격</th>\n",
       "      <th>평점</th>\n",
       "    </tr>\n",
       "  </thead>\n",
       "  <tbody>\n",
       "    <tr>\n",
       "      <th>0</th>\n",
       "      <td>McDonald</td>\n",
       "      <td>McCrispy Delux Burger</td>\n",
       "      <td>7900</td>\n",
       "      <td>4.5</td>\n",
       "    </tr>\n",
       "    <tr>\n",
       "      <th>1</th>\n",
       "      <td>Lotteria</td>\n",
       "      <td>T-Rex Burger</td>\n",
       "      <td>7100</td>\n",
       "      <td>3.9</td>\n",
       "    </tr>\n",
       "    <tr>\n",
       "      <th>2</th>\n",
       "      <td>BugerKing</td>\n",
       "      <td>Double Cheese Burger</td>\n",
       "      <td>10500</td>\n",
       "      <td>4.2</td>\n",
       "    </tr>\n",
       "    <tr>\n",
       "      <th>3</th>\n",
       "      <td>Mom's Touch</td>\n",
       "      <td>Thigh Flex Burger</td>\n",
       "      <td>10000</td>\n",
       "      <td>4.9</td>\n",
       "    </tr>\n",
       "    <tr>\n",
       "      <th>4</th>\n",
       "      <td>KFC</td>\n",
       "      <td>Kentucky Chicken Burger</td>\n",
       "      <td>7900</td>\n",
       "      <td>4.0</td>\n",
       "    </tr>\n",
       "    <tr>\n",
       "      <th>5</th>\n",
       "      <td>SHAKE SHACK</td>\n",
       "      <td>SHACK Burger</td>\n",
       "      <td>14200</td>\n",
       "      <td>NaN</td>\n",
       "    </tr>\n",
       "  </tbody>\n",
       "</table>\n",
       "</div>"
      ],
      "text/plain": [
       "           브랜드                     버거이름   세트가격   평점\n",
       "0     McDonald    McCrispy Delux Burger   7900  4.5\n",
       "1     Lotteria             T-Rex Burger   7100  3.9\n",
       "2    BugerKing     Double Cheese Burger  10500  4.2\n",
       "3  Mom's Touch        Thigh Flex Burger  10000  4.9\n",
       "4          KFC  Kentucky Chicken Burger   7900  4.0\n",
       "5  SHAKE SHACK             SHACK Burger  14200  NaN"
      ]
     },
     "execution_count": 6,
     "metadata": {},
     "output_type": "execute_result"
    }
   ],
   "source": [
    "## 1번. 답\n",
    "# 데이터프레임 제목 한글로 변경\n",
    "df_burger.columns = ['브랜드', '버거이름', '세트가격', '평점']\n",
    "\n",
    "# 결과 확인\n",
    "df_burger"
   ]
  },
  {
   "cell_type": "markdown",
   "metadata": {
    "id": "9pdB9ffWRJXy"
   },
   "source": [
    "#### 2. NaN 값을 평점의 평균값으로 채워넣으세요."
   ]
  },
  {
   "cell_type": "code",
   "execution_count": 8,
   "metadata": {
    "id": "970Df5xdRR6B"
   },
   "outputs": [
    {
     "data": {
      "text/html": [
       "<div>\n",
       "<style scoped>\n",
       "    .dataframe tbody tr th:only-of-type {\n",
       "        vertical-align: middle;\n",
       "    }\n",
       "\n",
       "    .dataframe tbody tr th {\n",
       "        vertical-align: top;\n",
       "    }\n",
       "\n",
       "    .dataframe thead th {\n",
       "        text-align: right;\n",
       "    }\n",
       "</style>\n",
       "<table border=\"1\" class=\"dataframe\">\n",
       "  <thead>\n",
       "    <tr style=\"text-align: right;\">\n",
       "      <th></th>\n",
       "      <th>브랜드</th>\n",
       "      <th>버거이름</th>\n",
       "      <th>세트가격</th>\n",
       "      <th>평점</th>\n",
       "    </tr>\n",
       "  </thead>\n",
       "  <tbody>\n",
       "    <tr>\n",
       "      <th>0</th>\n",
       "      <td>McDonald</td>\n",
       "      <td>McCrispy Delux Burger</td>\n",
       "      <td>7900</td>\n",
       "      <td>4.5</td>\n",
       "    </tr>\n",
       "    <tr>\n",
       "      <th>1</th>\n",
       "      <td>Lotteria</td>\n",
       "      <td>T-Rex Burger</td>\n",
       "      <td>7100</td>\n",
       "      <td>3.9</td>\n",
       "    </tr>\n",
       "    <tr>\n",
       "      <th>2</th>\n",
       "      <td>BugerKing</td>\n",
       "      <td>Double Cheese Burger</td>\n",
       "      <td>10500</td>\n",
       "      <td>4.2</td>\n",
       "    </tr>\n",
       "    <tr>\n",
       "      <th>3</th>\n",
       "      <td>Mom's Touch</td>\n",
       "      <td>Thigh Flex Burger</td>\n",
       "      <td>10000</td>\n",
       "      <td>4.9</td>\n",
       "    </tr>\n",
       "    <tr>\n",
       "      <th>4</th>\n",
       "      <td>KFC</td>\n",
       "      <td>Kentucky Chicken Burger</td>\n",
       "      <td>7900</td>\n",
       "      <td>4.0</td>\n",
       "    </tr>\n",
       "    <tr>\n",
       "      <th>5</th>\n",
       "      <td>SHAKE SHACK</td>\n",
       "      <td>SHACK Burger</td>\n",
       "      <td>14200</td>\n",
       "      <td>4.3</td>\n",
       "    </tr>\n",
       "  </tbody>\n",
       "</table>\n",
       "</div>"
      ],
      "text/plain": [
       "           브랜드                     버거이름   세트가격   평점\n",
       "0     McDonald    McCrispy Delux Burger   7900  4.5\n",
       "1     Lotteria             T-Rex Burger   7100  3.9\n",
       "2    BugerKing     Double Cheese Burger  10500  4.2\n",
       "3  Mom's Touch        Thigh Flex Burger  10000  4.9\n",
       "4          KFC  Kentucky Chicken Burger   7900  4.0\n",
       "5  SHAKE SHACK             SHACK Burger  14200  4.3"
      ]
     },
     "execution_count": 8,
     "metadata": {},
     "output_type": "execute_result"
    }
   ],
   "source": [
    "## 2번. 답\n",
    "# NaN 값을 평점으로 채우기\n",
    "df_burger['평점'] = df_burger['평점'].fillna(df_burger['평점'].mean())\n",
    "\n",
    "# 결과 확인\n",
    "df_burger"
   ]
  },
  {
   "cell_type": "markdown",
   "metadata": {
    "id": "ZvHebFFCTJje"
   },
   "source": [
    "#### 3. 두 데이터프레임을 합쳐서 하나의 데이터프레임으로 병합하세요."
   ]
  },
  {
   "cell_type": "code",
   "execution_count": 14,
   "metadata": {
    "id": "TKmiFftkTT3d"
   },
   "outputs": [
    {
     "data": {
      "text/html": [
       "<div>\n",
       "<style scoped>\n",
       "    .dataframe tbody tr th:only-of-type {\n",
       "        vertical-align: middle;\n",
       "    }\n",
       "\n",
       "    .dataframe tbody tr th {\n",
       "        vertical-align: top;\n",
       "    }\n",
       "\n",
       "    .dataframe thead th {\n",
       "        text-align: right;\n",
       "    }\n",
       "</style>\n",
       "<table border=\"1\" class=\"dataframe\">\n",
       "  <thead>\n",
       "    <tr style=\"text-align: right;\">\n",
       "      <th></th>\n",
       "      <th>브랜드</th>\n",
       "      <th>버거이름</th>\n",
       "      <th>세트가격</th>\n",
       "      <th>평점</th>\n",
       "      <th>country</th>\n",
       "      <th>established</th>\n",
       "    </tr>\n",
       "  </thead>\n",
       "  <tbody>\n",
       "    <tr>\n",
       "      <th>0</th>\n",
       "      <td>McDonald</td>\n",
       "      <td>McCrispy Delux Burger</td>\n",
       "      <td>7900</td>\n",
       "      <td>4.5</td>\n",
       "      <td>미국</td>\n",
       "      <td>1955</td>\n",
       "    </tr>\n",
       "    <tr>\n",
       "      <th>1</th>\n",
       "      <td>Lotteria</td>\n",
       "      <td>T-Rex Burger</td>\n",
       "      <td>7100</td>\n",
       "      <td>3.9</td>\n",
       "      <td>한국</td>\n",
       "      <td>1979</td>\n",
       "    </tr>\n",
       "    <tr>\n",
       "      <th>2</th>\n",
       "      <td>BugerKing</td>\n",
       "      <td>Double Cheese Burger</td>\n",
       "      <td>10500</td>\n",
       "      <td>4.2</td>\n",
       "      <td>미국</td>\n",
       "      <td>1953</td>\n",
       "    </tr>\n",
       "    <tr>\n",
       "      <th>3</th>\n",
       "      <td>Mom's Touch</td>\n",
       "      <td>Thigh Flex Burger</td>\n",
       "      <td>10000</td>\n",
       "      <td>4.9</td>\n",
       "      <td>한국</td>\n",
       "      <td>2004</td>\n",
       "    </tr>\n",
       "    <tr>\n",
       "      <th>4</th>\n",
       "      <td>KFC</td>\n",
       "      <td>Kentucky Chicken Burger</td>\n",
       "      <td>7900</td>\n",
       "      <td>4.0</td>\n",
       "      <td>미국</td>\n",
       "      <td>1930</td>\n",
       "    </tr>\n",
       "    <tr>\n",
       "      <th>5</th>\n",
       "      <td>SHAKE SHACK</td>\n",
       "      <td>SHACK Burger</td>\n",
       "      <td>14200</td>\n",
       "      <td>4.3</td>\n",
       "      <td>미국</td>\n",
       "      <td>2004</td>\n",
       "    </tr>\n",
       "  </tbody>\n",
       "</table>\n",
       "</div>"
      ],
      "text/plain": [
       "           브랜드                     버거이름   세트가격   평점 country  established\n",
       "0     McDonald    McCrispy Delux Burger   7900  4.5      미국         1955\n",
       "1     Lotteria             T-Rex Burger   7100  3.9      한국         1979\n",
       "2    BugerKing     Double Cheese Burger  10500  4.2      미국         1953\n",
       "3  Mom's Touch        Thigh Flex Burger  10000  4.9      한국         2004\n",
       "4          KFC  Kentucky Chicken Burger   7900  4.0      미국         1930\n",
       "5  SHAKE SHACK             SHACK Burger  14200  4.3      미국         2004"
      ]
     },
     "execution_count": 14,
     "metadata": {},
     "output_type": "execute_result"
    }
   ],
   "source": [
    "## 3번. 답\n",
    "# 두 데이터프레임 병합\n",
    "df_combine = pd.concat([df_burger, df_burger_sub], axis=1)\n",
    "\n",
    "# 결과 확인\n",
    "df_combine"
   ]
  },
  {
   "cell_type": "markdown",
   "metadata": {
    "id": "4NTGiGxMRXji"
   },
   "source": [
    "#### 4. 평점을 빼고 컬럼명에 '국가', '설립년도'로 변경하세요."
   ]
  },
  {
   "cell_type": "code",
   "execution_count": 15,
   "metadata": {
    "id": "_n41pvZcRhBD"
   },
   "outputs": [
    {
     "data": {
      "text/html": [
       "<div>\n",
       "<style scoped>\n",
       "    .dataframe tbody tr th:only-of-type {\n",
       "        vertical-align: middle;\n",
       "    }\n",
       "\n",
       "    .dataframe tbody tr th {\n",
       "        vertical-align: top;\n",
       "    }\n",
       "\n",
       "    .dataframe thead th {\n",
       "        text-align: right;\n",
       "    }\n",
       "</style>\n",
       "<table border=\"1\" class=\"dataframe\">\n",
       "  <thead>\n",
       "    <tr style=\"text-align: right;\">\n",
       "      <th></th>\n",
       "      <th>브랜드</th>\n",
       "      <th>버거이름</th>\n",
       "      <th>세트가격</th>\n",
       "      <th>국가</th>\n",
       "      <th>설립연도</th>\n",
       "    </tr>\n",
       "  </thead>\n",
       "  <tbody>\n",
       "    <tr>\n",
       "      <th>0</th>\n",
       "      <td>McDonald</td>\n",
       "      <td>McCrispy Delux Burger</td>\n",
       "      <td>7900</td>\n",
       "      <td>미국</td>\n",
       "      <td>1955</td>\n",
       "    </tr>\n",
       "    <tr>\n",
       "      <th>1</th>\n",
       "      <td>Lotteria</td>\n",
       "      <td>T-Rex Burger</td>\n",
       "      <td>7100</td>\n",
       "      <td>한국</td>\n",
       "      <td>1979</td>\n",
       "    </tr>\n",
       "    <tr>\n",
       "      <th>2</th>\n",
       "      <td>BugerKing</td>\n",
       "      <td>Double Cheese Burger</td>\n",
       "      <td>10500</td>\n",
       "      <td>미국</td>\n",
       "      <td>1953</td>\n",
       "    </tr>\n",
       "    <tr>\n",
       "      <th>3</th>\n",
       "      <td>Mom's Touch</td>\n",
       "      <td>Thigh Flex Burger</td>\n",
       "      <td>10000</td>\n",
       "      <td>한국</td>\n",
       "      <td>2004</td>\n",
       "    </tr>\n",
       "    <tr>\n",
       "      <th>4</th>\n",
       "      <td>KFC</td>\n",
       "      <td>Kentucky Chicken Burger</td>\n",
       "      <td>7900</td>\n",
       "      <td>미국</td>\n",
       "      <td>1930</td>\n",
       "    </tr>\n",
       "    <tr>\n",
       "      <th>5</th>\n",
       "      <td>SHAKE SHACK</td>\n",
       "      <td>SHACK Burger</td>\n",
       "      <td>14200</td>\n",
       "      <td>미국</td>\n",
       "      <td>2004</td>\n",
       "    </tr>\n",
       "  </tbody>\n",
       "</table>\n",
       "</div>"
      ],
      "text/plain": [
       "           브랜드                     버거이름   세트가격  국가  설립연도\n",
       "0     McDonald    McCrispy Delux Burger   7900  미국  1955\n",
       "1     Lotteria             T-Rex Burger   7100  한국  1979\n",
       "2    BugerKing     Double Cheese Burger  10500  미국  1953\n",
       "3  Mom's Touch        Thigh Flex Burger  10000  한국  2004\n",
       "4          KFC  Kentucky Chicken Burger   7900  미국  1930\n",
       "5  SHAKE SHACK             SHACK Burger  14200  미국  2004"
      ]
     },
     "execution_count": 15,
     "metadata": {},
     "output_type": "execute_result"
    }
   ],
   "source": [
    "## 4번. 답\n",
    "\n",
    "# 평점 컬럼 제거\n",
    "df_combine = df_combine.drop(columns=['평점'])\n",
    "\n",
    "# 컬럼명 변경\n",
    "df_combine.rename(columns={'country': '국가', 'established': '설립연도'}, inplace=True)\n",
    "\n",
    "# 결과 출력\n",
    "df_combine"
   ]
  },
  {
   "cell_type": "markdown",
   "metadata": {
    "id": "l-p2cp_jTneL"
   },
   "source": [
    "#### 5. CSV로 저장하는 로직을 작성하세요."
   ]
  },
  {
   "cell_type": "code",
   "execution_count": null,
   "metadata": {
    "id": "GZjVJDBvTv_m"
   },
   "outputs": [],
   "source": [
    "## 5번. 답\n",
    "df_combine.to_csv('./data/result.csv', encoding='utf-8', index=False)"
   ]
  }
 ],
 "metadata": {
  "colab": {
   "authorship_tag": "ABX9TyPmJ6V5OCYe6MurISfQdl2k",
   "provenance": []
  },
  "kernelspec": {
   "display_name": "Python 3",
   "name": "python3"
  },
  "language_info": {
   "codemirror_mode": {
    "name": "ipython",
    "version": 3
   },
   "file_extension": ".py",
   "mimetype": "text/x-python",
   "name": "python",
   "nbconvert_exporter": "python",
   "pygments_lexer": "ipython3",
   "version": "3.11.5"
  }
 },
 "nbformat": 4,
 "nbformat_minor": 0
}
